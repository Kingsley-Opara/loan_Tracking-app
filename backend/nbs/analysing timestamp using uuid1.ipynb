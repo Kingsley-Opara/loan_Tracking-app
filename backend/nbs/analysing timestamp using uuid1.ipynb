{
 "cells": [
  {
   "cell_type": "code",
   "execution_count": 1,
   "id": "c6415b2b-e437-4b77-9bf8-40cb8cbbd31e",
   "metadata": {},
   "outputs": [
    {
     "name": "stdout",
     "output_type": "stream",
     "text": [
      "C:\\Users\\DELL\\devworkspace\\projects\\loan_trackingApp\\backend\\app\n"
     ]
    }
   ],
   "source": [
    "%cd ../app"
   ]
  },
  {
   "cell_type": "code",
   "execution_count": 2,
   "id": "b773fd92-a319-4e78-922f-8d63c2a4e88a",
   "metadata": {},
   "outputs": [
    {
     "name": "stdout",
     "output_type": "stream",
     "text": [
      " Volume in drive C has no label.\n",
      " Volume Serial Number is 72C0-CB9F\n",
      "\n",
      " Directory of C:\\Users\\DELL\\devworkspace\\projects\\loan_trackingApp\\backend\\app\n",
      "\n",
      "10/27/2023  12:03 PM    <DIR>          .\n",
      "10/27/2023  12:03 PM    <DIR>          ..\n",
      "10/27/2023  11:52 AM               315 config.py\n",
      "10/26/2023  03:37 PM               499 crud.py\n",
      "10/27/2023  11:20 AM               712 db.py\n",
      "10/27/2023  06:19 AM             1,017 main.py\n",
      "10/27/2023  11:25 AM    <DIR>          users\n",
      "10/27/2023  11:48 AM                 0 worker.py\n",
      "10/25/2023  03:18 PM                 0 __init__.py\n",
      "10/27/2023  11:52 AM    <DIR>          __pycache__\n",
      "               6 File(s)          2,543 bytes\n",
      "               4 Dir(s)  34,295,226,368 bytes free\n"
     ]
    }
   ],
   "source": [
    "!dir"
   ]
  },
  {
   "cell_type": "code",
   "execution_count": 60,
   "id": "523b2b0b-064e-45a0-a8cc-fda407b610b0",
   "metadata": {},
   "outputs": [],
   "source": [
    "from users.schema import UserSignUpSchemaModel\n",
    "import uuid\n",
    "\n",
    "test = uuid.uuid1().time"
   ]
  },
  {
   "cell_type": "code",
   "execution_count": 48,
   "id": "22b12905-4500-4968-ae39-e4b5521bf26c",
   "metadata": {},
   "outputs": [],
   "source": [
    "data = {\n",
    "    'uuid': 'e9dcd7b1-74c6-11ee-948c-c0389681892e',\n",
    "    'username': 'udo',\n",
    "    \"fullname\": \"udochukuwu\",\n",
    "    \"email\": 'udo@gmail.com',\n",
    "    'password': 'abc123'\n",
    "}\n",
    "    "
   ]
  },
  {
   "cell_type": "code",
   "execution_count": 22,
   "id": "14e4761a-a83c-4d1f-b97a-e3bb7fe27bd1",
   "metadata": {},
   "outputs": [
    {
     "data": {
      "text/plain": [
       "UserSignUpSchemaModel(uuid=UUID('56b652e9-74c7-11ee-8011-c0389681892e'), username='udo', fullname='udochukuwu', email='udo@gmail.com', password='abc123', created_at=None)"
      ]
     },
     "execution_count": 22,
     "metadata": {},
     "output_type": "execute_result"
    }
   ],
   "source": [
    "UserSignUpSchemaModel(**data)"
   ]
  },
  {
   "cell_type": "code",
   "execution_count": 75,
   "id": "8d4609d2-d4fb-424b-82d7-3aeba17e391e",
   "metadata": {},
   "outputs": [],
   "source": [
    "from pydantic import BaseModel, EmailStr, SecretStr, root_validator\n",
    "from typing import Optional, Any\n",
    "import uuid\n",
    "from uuid import UUID\n",
    "from users.utilis import uuid1_time_to_datetime\n",
    "\n",
    "class UserSignUpSchema(BaseModel):\n",
    "    uuid: UUID = uuid.uuid1()\n",
    "    username: str\n",
    "    fullname:str\n",
    "    email: EmailStr\n",
    "    password: SecretStr\n",
    "    createdat: Optional[Any] = None\n",
    "\n",
    "    @root_validator(pre = True)\n",
    "    def timestamp(cls, values):\n",
    "        uuid = values.get('uuid')\n",
    "        values['createdat'] = uuid1_time_to_datetime(uuid.time)\n",
    "        return values"
   ]
  },
  {
   "cell_type": "code",
   "execution_count": 76,
   "id": "d0a274c8-f8a1-4d4c-88bd-36a6acffd309",
   "metadata": {},
   "outputs": [
    {
     "ename": "AttributeError",
     "evalue": "'str' object has no attribute 'time'",
     "output_type": "error",
     "traceback": [
      "\u001b[1;31m---------------------------------------------------------------------------\u001b[0m",
      "\u001b[1;31mAttributeError\u001b[0m                            Traceback (most recent call last)",
      "Cell \u001b[1;32mIn[76], line 1\u001b[0m\n\u001b[1;32m----> 1\u001b[0m UserSignUpSchema(\u001b[38;5;241m*\u001b[39m\u001b[38;5;241m*\u001b[39mdata)\n",
      "File \u001b[1;32mc:\\users\\dell\\devworkspace\\projects\\loan_trackingapp\\backend\\venv\\lib\\site-packages\\pydantic\\main.py:339\u001b[0m, in \u001b[0;36mpydantic.main.BaseModel.__init__\u001b[1;34m()\u001b[0m\n",
      "File \u001b[1;32mc:\\users\\dell\\devworkspace\\projects\\loan_trackingapp\\backend\\venv\\lib\\site-packages\\pydantic\\main.py:1050\u001b[0m, in \u001b[0;36mpydantic.main.validate_model\u001b[1;34m()\u001b[0m\n",
      "Cell \u001b[1;32mIn[75], line 18\u001b[0m, in \u001b[0;36mUserSignUpSchema.timestamp\u001b[1;34m(cls, values)\u001b[0m\n\u001b[0;32m     15\u001b[0m \u001b[38;5;129m@root_validator\u001b[39m(pre \u001b[38;5;241m=\u001b[39m \u001b[38;5;28;01mTrue\u001b[39;00m)\n\u001b[0;32m     16\u001b[0m \u001b[38;5;28;01mdef\u001b[39;00m \u001b[38;5;21mtimestamp\u001b[39m(\u001b[38;5;28mcls\u001b[39m, values):\n\u001b[0;32m     17\u001b[0m     uuid \u001b[38;5;241m=\u001b[39m values\u001b[38;5;241m.\u001b[39mget(\u001b[38;5;124m'\u001b[39m\u001b[38;5;124muuid\u001b[39m\u001b[38;5;124m'\u001b[39m)\n\u001b[1;32m---> 18\u001b[0m     values[\u001b[38;5;124m'\u001b[39m\u001b[38;5;124mcreatedat\u001b[39m\u001b[38;5;124m'\u001b[39m] \u001b[38;5;241m=\u001b[39m uuid1_time_to_datetime(\u001b[43muuid\u001b[49m\u001b[38;5;241;43m.\u001b[39;49m\u001b[43mtime\u001b[49m)\n\u001b[0;32m     19\u001b[0m     \u001b[38;5;28;01mreturn\u001b[39;00m values\n",
      "\u001b[1;31mAttributeError\u001b[0m: 'str' object has no attribute 'time'"
     ]
    }
   ],
   "source": [
    "UserSignUpSchema(**data)"
   ]
  },
  {
   "cell_type": "code",
   "execution_count": 62,
   "id": "261046cb-e5dc-4523-a366-5669115fe03b",
   "metadata": {},
   "outputs": [
    {
     "data": {
      "text/plain": [
       "datetime.datetime(2023, 10, 27, 13, 11, 12, 566740)"
      ]
     },
     "execution_count": 62,
     "metadata": {},
     "output_type": "execute_result"
    }
   ],
   "source": [
    "uuid1_time_to_datetime(test)"
   ]
  },
  {
   "cell_type": "code",
   "execution_count": null,
   "id": "237a3ed1-8082-47f5-8b34-a92fc4631d95",
   "metadata": {},
   "outputs": [],
   "source": []
  }
 ],
 "metadata": {
  "kernelspec": {
   "display_name": "Python 3 (ipykernel)",
   "language": "python",
   "name": "python3"
  },
  "language_info": {
   "codemirror_mode": {
    "name": "ipython",
    "version": 3
   },
   "file_extension": ".py",
   "mimetype": "text/x-python",
   "name": "python",
   "nbconvert_exporter": "python",
   "pygments_lexer": "ipython3",
   "version": "3.9.0"
  }
 },
 "nbformat": 4,
 "nbformat_minor": 5
}
